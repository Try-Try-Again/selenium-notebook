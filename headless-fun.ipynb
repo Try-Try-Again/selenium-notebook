{
 "cells": [
  {
   "cell_type": "code",
   "execution_count": 29,
   "id": "a1365c7c-4ca4-4976-b3b6-477810d0e22f",
   "metadata": {},
   "outputs": [],
   "source": [
    "from selenium import webdriver\n",
    "from selenium.webdriver.chrome.options import Options\n",
    "import os"
   ]
  },
  {
   "cell_type": "code",
   "execution_count": 30,
   "id": "1fa6734c-2111-4a1f-8a07-a390d9de8c35",
   "metadata": {},
   "outputs": [],
   "source": [
    "#  _   _ _____    _    ____  _     _____ ____ ____    __  __  ___  ____  _____\n",
    "# | | | | ____|  / \\  |  _ \\| |   | ____/ ___/ ___|  |  \\/  |/ _ \\|  _ \\| ____|\n",
    "# | |_| |  _|   / _ \\ | | | | |   |  _| \\___ \\___ \\  | |\\/| | | | | | | |  _|\n",
    "# |  _  | |___ / ___ \\| |_| | |___| |___ ___) |__) | | |  | | |_| | |_| | |___\n",
    "# |_| |_|_____/_/   \\_\\____/|_____|_____|____/____/  |_|  |_|\\___/|____/|_____|\n",
    "chrome_options = Options()\n",
    "chrome_options.add_argument(\"--headless\")\n",
    "browser = webdriver.Chrome(options=chrome_options)"
   ]
  },
  {
   "cell_type": "code",
   "execution_count": 32,
   "id": "af5a76f3-45b4-413b-b70a-7f50abbf14d5",
   "metadata": {},
   "outputs": [],
   "source": [
    "browser.set_window_size(320, 480) #resize to phone\n",
    "browser.get('http://lakeviewdata.com') #travel to a website"
   ]
  },
  {
   "cell_type": "code",
   "execution_count": 33,
   "id": "4d38ddb2-414f-4106-a0b2-e9803897e965",
   "metadata": {},
   "outputs": [
    {
     "data": {
      "text/plain": [
       "True"
      ]
     },
     "execution_count": 33,
     "metadata": {},
     "output_type": "execute_result"
    }
   ],
   "source": [
    "login_organism = browser.find_element_by_id('id_login_organism')\n",
    "login_organism.screenshot(\"screenshot.png\") #take a screenshot of a div"
   ]
  },
  {
   "cell_type": "code",
   "execution_count": 36,
   "id": "1bd6ff5c-c7ca-4aa0-a653-885ceaa92d6e",
   "metadata": {},
   "outputs": [],
   "source": [
    "browser.quit()"
   ]
  },
  {
   "cell_type": "code",
   "execution_count": null,
   "id": "1f782180-9384-40ba-915a-d290f03d07df",
   "metadata": {},
   "outputs": [],
   "source": []
  }
 ],
 "metadata": {
  "kernelspec": {
   "display_name": "Python 3",
   "language": "python",
   "name": "python3"
  },
  "language_info": {
   "codemirror_mode": {
    "name": "ipython",
    "version": 3
   },
   "file_extension": ".py",
   "mimetype": "text/x-python",
   "name": "python",
   "nbconvert_exporter": "python",
   "pygments_lexer": "ipython3",
   "version": "3.9.5"
  }
 },
 "nbformat": 4,
 "nbformat_minor": 5
}
