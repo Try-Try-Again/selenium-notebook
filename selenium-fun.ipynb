{
 "cells": [
  {
   "cell_type": "code",
   "execution_count": 4,
   "id": "30613825-c67d-43fb-a708-e1c33db9247e",
   "metadata": {},
   "outputs": [],
   "source": [
    "from selenium import webdriver"
   ]
  },
  {
   "cell_type": "code",
   "execution_count": 12,
   "id": "2b1032ce-218f-4d2e-a406-6095c37f4f85",
   "metadata": {},
   "outputs": [],
   "source": [
    "# ____ _____  _    ____ _____   ____  ____   _____        ______  _____ ____\n",
    "#/ ___|_   _|/ \\  |  _ \\_   _| | __ )|  _ \\ / _ \\ \\      / / ___|| ____|  _ \\\n",
    "#\\___ \\ | | / _ \\ | |_) || |   |  _ \\| |_) | | | \\ \\ /\\ / /\\___ \\|  _| | |_) |\n",
    "# ___) || |/ ___ \\|  _ < | |   | |_) |  _ <| |_| |\\ V  V /  ___) | |___|  _ <\n",
    "#|____/ |_/_/   \\_\\_| \\_\\|_|   |____/|_| \\_\\\\___/  \\_/\\_/  |____/|_____|_| \\_\\\n",
    "browser = webdriver.Chrome()"
   ]
  },
  {
   "cell_type": "code",
   "execution_count": 16,
   "id": "0752d07a-453a-42bd-a238-7caba73d3856",
   "metadata": {},
   "outputs": [],
   "source": [
    "browser.set_window_size(320, 480)"
   ]
  },
  {
   "cell_type": "code",
   "execution_count": 15,
   "id": "3594a239-ce57-4490-b057-d85d2ba50979",
   "metadata": {},
   "outputs": [],
   "source": [
    "browser.get('http://lakeviewdata.com') #travel to a website"
   ]
  },
  {
   "cell_type": "code",
   "execution_count": 17,
   "id": "5efa79ff-d11d-41dd-af5b-f843b08fe159",
   "metadata": {},
   "outputs": [],
   "source": [
    "app_div = browser.find_element_by_id('app') #get div with id 'app'"
   ]
  },
  {
   "cell_type": "code",
   "execution_count": 18,
   "id": "8c629881-c989-42d1-8093-e2fb667a1715",
   "metadata": {},
   "outputs": [],
   "source": [
    "login_organism = browser.find_element_by_id('id_login_organism')"
   ]
  },
  {
   "cell_type": "code",
   "execution_count": 19,
   "id": "2cc2c323-b8fe-4db5-bccb-3ef22036f893",
   "metadata": {},
   "outputs": [
    {
     "data": {
      "text/plain": [
       "True"
      ]
     },
     "execution_count": 19,
     "metadata": {},
     "output_type": "execute_result"
    }
   ],
   "source": [
    "login_organism.screenshot(\"screenshot.png\") #take a screenshot of a div"
   ]
  },
  {
   "cell_type": "code",
   "execution_count": 10,
   "id": "57ab00b8-8b09-4a23-9507-dbd049730aa3",
   "metadata": {},
   "outputs": [
    {
     "data": {
      "text/plain": [
       "'http://lakeviewdata.com/'"
      ]
     },
     "execution_count": 10,
     "metadata": {},
     "output_type": "execute_result"
    }
   ],
   "source": [
    "browser.current_url #returns url as string"
   ]
  },
  {
   "cell_type": "code",
   "execution_count": 11,
   "id": "8febc6ab-eba9-4e8e-8575-01cfa3fa1bbf",
   "metadata": {},
   "outputs": [],
   "source": [
    "# _  _____ _     _       ____  ____   _____        ______  _____ ____\n",
    "#| |/ /_ _| |   | |     | __ )|  _ \\ / _ \\ \\      / / ___|| ____|  _ \\\n",
    "#| ' / | || |   | |     |  _ \\| |_) | | | \\ \\ /\\ / /\\___ \\|  _| | |_) |\n",
    "#| . \\ | || |___| |___  | |_) |  _ <| |_| |\\ V  V /  ___) | |___|  _ <\n",
    "#|_|\\_\\___|_____|_____| |____/|_| \\_\\\\___/  \\_/\\_/  |____/|_____|_| \\_\\\n",
    "browser.quit()"
   ]
  }
 ],
 "metadata": {
  "kernelspec": {
   "display_name": "Python 3",
   "language": "python",
   "name": "python3"
  },
  "language_info": {
   "codemirror_mode": {
    "name": "ipython",
    "version": 3
   },
   "file_extension": ".py",
   "mimetype": "text/x-python",
   "name": "python",
   "nbconvert_exporter": "python",
   "pygments_lexer": "ipython3",
   "version": "3.9.5"
  }
 },
 "nbformat": 4,
 "nbformat_minor": 5
}
